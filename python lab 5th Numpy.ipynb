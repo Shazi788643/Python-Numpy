{
 "cells": [
  {
   "cell_type": "markdown",
   "id": "b2414cc3-06bc-4c99-af4a-ee0dec9a574e",
   "metadata": {},
   "source": [
    "# Creating Arrays"
   ]
  },
  {
   "cell_type": "code",
   "execution_count": 1,
   "id": "f3af344f-e2bb-409d-bc3c-d9f4f230bc61",
   "metadata": {},
   "outputs": [],
   "source": [
    "import numpy as np"
   ]
  },
  {
   "cell_type": "code",
   "execution_count": 3,
   "id": "a251bd25-b959-42af-b8e4-1dc1a1d8412c",
   "metadata": {},
   "outputs": [
    {
     "data": {
      "text/plain": [
       "array([ 1,  2,  3,  4,  5,  6,  7,  8,  9, 10])"
      ]
     },
     "execution_count": 3,
     "metadata": {},
     "output_type": "execute_result"
    }
   ],
   "source": [
    "a = np.array([1,2,3 ,4 ,5 , 6 ,7 ,8 ,9 ,10])\n",
    "a"
   ]
  },
  {
   "cell_type": "code",
   "execution_count": 5,
   "id": "4cd2fa10-8173-4e40-9f03-0f34387d8ad9",
   "metadata": {},
   "outputs": [
    {
     "data": {
      "text/plain": [
       "array([[[1, 2, 3, 4, 5, 6],\n",
       "        [4, 5, 6, 7, 8, 9]]])"
      ]
     },
     "execution_count": 5,
     "metadata": {},
     "output_type": "execute_result"
    }
   ],
   "source": [
    "b = np.array([[[1,2,3 ,4 ,5 ,6], [4, 5, 6 ,7 ,8 ,9]]])\n",
    "b\n"
   ]
  },
  {
   "cell_type": "code",
   "execution_count": 7,
   "id": "909f47ce-5d00-4a45-9e28-9acff22c8800",
   "metadata": {},
   "outputs": [
    {
     "data": {
      "text/plain": [
       "array([[0., 0., 0., 0., 0., 0., 0., 0.],\n",
       "       [0., 0., 0., 0., 0., 0., 0., 0.],\n",
       "       [0., 0., 0., 0., 0., 0., 0., 0.],\n",
       "       [0., 0., 0., 0., 0., 0., 0., 0.]])"
      ]
     },
     "execution_count": 7,
     "metadata": {},
     "output_type": "execute_result"
    }
   ],
   "source": [
    "zeros = np.zeros((4,8))\n",
    "zeros"
   ]
  },
  {
   "cell_type": "code",
   "execution_count": 14,
   "id": "a5d1777c-222f-4641-b070-9b5a74c7cbb4",
   "metadata": {},
   "outputs": [
    {
     "data": {
      "text/plain": [
       "array([ 0,  4,  8, 12, 16])"
      ]
     },
     "execution_count": 14,
     "metadata": {},
     "output_type": "execute_result"
    }
   ],
   "source": [
    "range_array = np.arange(0, 20, 4)\n",
    "range_array"
   ]
  },
  {
   "cell_type": "code",
   "execution_count": 17,
   "id": "648729e7-d1b6-49d4-9633-8a6d8d35aa2d",
   "metadata": {},
   "outputs": [
    {
     "data": {
      "text/plain": [
       "array([0.  , 0.25, 0.5 , 0.75, 1.  ])"
      ]
     },
     "execution_count": 17,
     "metadata": {},
     "output_type": "execute_result"
    }
   ],
   "source": [
    "linspace_array = np.linspace(0, 1, 5 , )\n",
    "linspace_array"
   ]
  },
  {
   "cell_type": "markdown",
   "id": "a0d3fafb-b9c5-4cc9-b757-c64ce567cb68",
   "metadata": {},
   "source": [
    "# Array Attributes"
   ]
  },
  {
   "cell_type": "code",
   "execution_count": 20,
   "id": "f016af02-1818-475c-abef-89aa5b9832d8",
   "metadata": {},
   "outputs": [
    {
     "name": "stdout",
     "output_type": "stream",
     "text": [
      "(10,)\n",
      "3\n",
      "int64\n"
     ]
    }
   ],
   "source": [
    "print(a.shape)\n",
    "\n",
    "print(b.ndim)\n",
    "\n",
    "print(b.dtype)\n"
   ]
  },
  {
   "cell_type": "markdown",
   "id": "c1a43191-ff17-421a-bb40-da43d5700ced",
   "metadata": {},
   "source": [
    "# Basic Operations\n"
   ]
  },
  {
   "cell_type": "code",
   "execution_count": 24,
   "id": "fce48d7a-3cf9-4c2f-b93c-58ecbb8a1406",
   "metadata": {},
   "outputs": [
    {
     "name": "stdout",
     "output_type": "stream",
     "text": [
      "[5 7 9]\n",
      "[17 19 21]\n"
     ]
    }
   ],
   "source": [
    "x = np.array([1,2,3])\n",
    "y = np.array([4,5,6])\n",
    "z = np.array([7,8,9])\n",
    "s = np.array([10,11,12])\n",
    "\n",
    "print(x+y)\n",
    "print(z+s)"
   ]
  },
  {
   "cell_type": "code",
   "execution_count": 26,
   "id": "1a1b5c5a-dc07-49aa-a2a9-642208ebf26d",
   "metadata": {},
   "outputs": [
    {
     "name": "stdout",
     "output_type": "stream",
     "text": [
      "[ 4 10 18]\n",
      "[ 70  88 108]\n"
     ]
    }
   ],
   "source": [
    "x = np.array([1,2,3])\n",
    "y = np.array([4,5,6])\n",
    "z = np.array([7,8,9])\n",
    "s = np.array([10,11,12])\n",
    "\n",
    "print(x*y)\n",
    "print(z*s)"
   ]
  },
  {
   "cell_type": "markdown",
   "id": "cbbd9b0f-8f81-47a3-ab24-c0ad48a4e483",
   "metadata": {},
   "source": [
    "# Indexing and Slicing"
   ]
  },
  {
   "cell_type": "code",
   "execution_count": 30,
   "id": "dd43b495-2475-46a0-ab76-fef1074a1896",
   "metadata": {},
   "outputs": [
    {
     "name": "stdout",
     "output_type": "stream",
     "text": [
      "22\n"
     ]
    }
   ],
   "source": [
    "arr = np.array([[11,22,33], [45,56,67]])\n",
    "\n",
    "print(arr[0, 1])\n"
   ]
  },
  {
   "cell_type": "code",
   "execution_count": 31,
   "id": "46eaf4a3-bf27-4e50-9939-fa0964fd7e70",
   "metadata": {},
   "outputs": [
    {
     "name": "stdout",
     "output_type": "stream",
     "text": [
      "[101 304]\n"
     ]
    }
   ],
   "source": [
    "a = np.array([101, 203, 304, 405])\n",
    "print(a[[0, 2]])"
   ]
  },
  {
   "cell_type": "markdown",
   "id": "5e0f7081-f220-4aec-9448-e703b1b37947",
   "metadata": {},
   "source": [
    "# Boolean Masking"
   ]
  },
  {
   "cell_type": "code",
   "execution_count": 33,
   "id": "0ed397a2-8fd4-45e2-ac7f-519029dfcef7",
   "metadata": {},
   "outputs": [
    {
     "name": "stdout",
     "output_type": "stream",
     "text": [
      "[11 22 33 45 56 67]\n"
     ]
    }
   ],
   "source": [
    "mask = arr > 9\n",
    "print(arr[mask])"
   ]
  },
  {
   "cell_type": "markdown",
   "id": "f6fd2e99-78d4-4087-a6e2-7d99f84c0295",
   "metadata": {},
   "source": [
    "# Reshaping Array"
   ]
  },
  {
   "cell_type": "code",
   "execution_count": 38,
   "id": "f1094efc-b0f0-444b-9790-7ba600a7a83b",
   "metadata": {},
   "outputs": [
    {
     "data": {
      "text/plain": [
       "array([[11, 22, 33],\n",
       "       [45, 56, 67]])"
      ]
     },
     "execution_count": 38,
     "metadata": {},
     "output_type": "execute_result"
    }
   ],
   "source": [
    "arr\n",
    "\n"
   ]
  },
  {
   "cell_type": "code",
   "execution_count": 43,
   "id": "6f5b7e0d-0003-4ec5-a354-134b4ea4ff9f",
   "metadata": {},
   "outputs": [
    {
     "data": {
      "text/plain": [
       "array([[11, 22],\n",
       "       [33, 45],\n",
       "       [56, 67]])"
      ]
     },
     "execution_count": 43,
     "metadata": {},
     "output_type": "execute_result"
    }
   ],
   "source": [
    "reshaped = arr.reshape((3,2))\n",
    "reshaped\n",
    "\n"
   ]
  },
  {
   "cell_type": "markdown",
   "id": "8680afe6-6076-449b-8975-0b2d0d73c535",
   "metadata": {},
   "source": [
    "# Stacking Array"
   ]
  },
  {
   "cell_type": "code",
   "execution_count": 45,
   "id": "08354b72-0d97-493c-afe7-380b3f23ad4a",
   "metadata": {},
   "outputs": [
    {
     "name": "stdout",
     "output_type": "stream",
     "text": [
      "[[1 2]\n",
      " [3 4]\n",
      " [5 6]]\n"
     ]
    }
   ],
   "source": [
    "a = np.array([1,2])\n",
    "b = np.array([3,4])\n",
    "c = np.array([5,6])\n",
    "print(np.vstack((a, b ,c)))"
   ]
  },
  {
   "cell_type": "markdown",
   "id": "bd693a48-b38c-47ff-9fbf-78f435eec731",
   "metadata": {},
   "source": [
    "# Splitting Array\n"
   ]
  },
  {
   "cell_type": "code",
   "execution_count": 47,
   "id": "275b19e0-6051-43ff-98ec-f2600cfc70c8",
   "metadata": {},
   "outputs": [
    {
     "data": {
      "text/plain": [
       "[array([[12, 24, 35]]), array([[46, 75, 86]])]"
      ]
     },
     "execution_count": 47,
     "metadata": {},
     "output_type": "execute_result"
    }
   ],
   "source": [
    "x = np.array([[12, 24, 35], [46, 75, 86]])\n",
    "np.hsplit(x, 3)    \n",
    "np.vsplit(x, 2)   "
   ]
  },
  {
   "cell_type": "markdown",
   "id": "0ad69428-1a16-4d57-967a-f82c090277af",
   "metadata": {},
   "source": [
    "# Broadcasting"
   ]
  },
  {
   "cell_type": "code",
   "execution_count": 49,
   "id": "f92edc3e-663b-473a-a661-11cccb05872e",
   "metadata": {},
   "outputs": [
    {
     "name": "stdout",
     "output_type": "stream",
     "text": [
      "[140 258 367] next\n",
      "[[4]\n",
      " [5]\n",
      " [6]]\n"
     ]
    }
   ],
   "source": [
    "a = np.array([140,258,367])\n",
    "b = np.array([[4],[5],[6]])\n",
    "print(a, 'next')\n",
    "print(b)\n"
   ]
  },
  {
   "cell_type": "markdown",
   "id": "4402cb57-1ac5-498a-a00f-42d710dc8ebb",
   "metadata": {},
   "source": [
    "# Linear Algebra Operations"
   ]
  },
  {
   "cell_type": "code",
   "execution_count": 53,
   "id": "94687441-e142-4d32-bfb0-f346daba16a4",
   "metadata": {},
   "outputs": [
    {
     "data": {
      "text/plain": [
       "array([[111, 222],\n",
       "       [223, 224]])"
      ]
     },
     "execution_count": 53,
     "metadata": {},
     "output_type": "execute_result"
    }
   ],
   "source": [
    "from numpy.linalg import inv, eig, svd\n",
    "matrix = np.array([[111,222], [223,224]] )\n",
    "matrix"
   ]
  },
  {
   "cell_type": "code",
   "execution_count": 55,
   "id": "99e09caa-d032-4c59-95e2-01046bada151",
   "metadata": {},
   "outputs": [
    {
     "name": "stdout",
     "output_type": "stream",
     "text": [
      "[[-0.00909017  0.00900901]\n",
      " [ 0.00904959 -0.0045045 ]]\n"
     ]
    }
   ],
   "source": [
    "print(inv(matrix))"
   ]
  },
  {
   "cell_type": "code",
   "execution_count": 57,
   "id": "d0803d05-1729-4d28-801d-92ef78876bde",
   "metadata": {},
   "outputs": [
    {
     "name": "stdout",
     "output_type": "stream",
     "text": [
      "[-62.06099407 397.06099407]\n"
     ]
    }
   ],
   "source": [
    "eigenvalues, eigenvectors = eig(matrix)\n",
    "print(eigenvalues)"
   ]
  },
  {
   "cell_type": "code",
   "execution_count": 59,
   "id": "d88de72a-e5b4-4354-8939-41246af06a33",
   "metadata": {},
   "outputs": [
    {
     "name": "stdout",
     "output_type": "stream",
     "text": [
      "[[-0.78867285 -0.61309385]\n",
      " [ 0.61481309 -0.79001008]]\n"
     ]
    }
   ],
   "source": [
    "print(eigenvectors)"
   ]
  },
  {
   "cell_type": "code",
   "execution_count": 61,
   "id": "3b98bdee-3fe9-4688-82f1-b86594685b0f",
   "metadata": {},
   "outputs": [
    {
     "name": "stdout",
     "output_type": "stream",
     "text": [
      "[[-0.61277504 -0.7902574 ]\n",
      " [-0.7902574   0.61277504]]\n",
      "[397.06228486  62.06079232]\n",
      "[[-0.61513127 -0.78842471]\n",
      " [ 0.78842471 -0.61513127]]\n"
     ]
    }
   ],
   "source": [
    "U, S, V = svd(matrix)\n",
    "print(U)\n",
    "\n",
    "print(S)\n",
    "\n",
    "print(V)\n"
   ]
  },
  {
   "cell_type": "code",
   "execution_count": 63,
   "id": "0538f0fb-d3bc-4aa9-a8c8-22f840454f8c",
   "metadata": {},
   "outputs": [
    {
     "data": {
      "text/plain": [
       "array([[406837, 474291],\n",
       "       [815539, 957377]])"
      ]
     },
     "execution_count": 63,
     "metadata": {},
     "output_type": "execute_result"
    }
   ],
   "source": [
    "a = np.array([[123, 442], [553, 664]])\n",
    "b = np.array([[555, 665], [766, 888]])\n",
    "c = a @ b\n",
    "c"
   ]
  },
  {
   "cell_type": "code",
   "execution_count": 65,
   "id": "7b5b297d-6122-41a6-b3cb-7734f338a3fa",
   "metadata": {},
   "outputs": [
    {
     "data": {
      "text/plain": [
       "array([[406837, 474291],\n",
       "       [815539, 957377]])"
      ]
     },
     "execution_count": 65,
     "metadata": {},
     "output_type": "execute_result"
    }
   ],
   "source": [
    "np.dot(a, b)"
   ]
  },
  {
   "cell_type": "code",
   "execution_count": 67,
   "id": "8cab568e-484b-4605-9dec-35a364c46838",
   "metadata": {},
   "outputs": [
    {
     "data": {
      "text/plain": [
       "array([[-0.00407978,  0.00271576],\n",
       "       [ 0.00339777, -0.00075574]])"
      ]
     },
     "execution_count": 67,
     "metadata": {},
     "output_type": "execute_result"
    }
   ],
   "source": [
    "from numpy.linalg import inv, det\n",
    "inv_a = inv(a)\n",
    "inv_a\n"
   ]
  },
  {
   "cell_type": "code",
   "execution_count": 69,
   "id": "c4984b0c-0553-4344-80f7-ed8353dde1da",
   "metadata": {},
   "outputs": [
    {
     "data": {
      "text/plain": [
       "np.float64(-162753.99999999985)"
      ]
     },
     "execution_count": 69,
     "metadata": {},
     "output_type": "execute_result"
    }
   ],
   "source": [
    "det_a = det(a)\n",
    "det_a\n"
   ]
  },
  {
   "cell_type": "markdown",
   "id": "cff99521-9bbe-4954-9d7f-04e801d7d19e",
   "metadata": {},
   "source": [
    "# Random Number Generation"
   ]
  },
  {
   "cell_type": "code",
   "execution_count": 77,
   "id": "db7454a8-200b-4855-9c68-b954489ff593",
   "metadata": {},
   "outputs": [
    {
     "data": {
      "text/plain": [
       "array([[[[0.41379066, 0.90695766, 0.99409315, 0.8751446 , 0.2526478 ],\n",
       "         [0.64162677, 0.94664386, 0.13433503, 0.28915285, 0.99220401],\n",
       "         [0.9303492 , 0.77228141, 0.28924189, 0.24906292, 0.3643253 ],\n",
       "         [0.53353747, 0.84513825, 0.30696056, 0.99251201, 0.10128187]],\n",
       "\n",
       "        [[0.02190941, 0.86991244, 0.25816923, 0.28324189, 0.2175757 ],\n",
       "         [0.39684066, 0.15037878, 0.29514139, 0.18822501, 0.45573189],\n",
       "         [0.40619461, 0.4544025 , 0.22954621, 0.85781234, 0.4391949 ],\n",
       "         [0.71365728, 0.47101719, 0.32791559, 0.76512935, 0.43317275]]],\n",
       "\n",
       "\n",
       "       [[[0.69646782, 0.88949379, 0.41912188, 0.61023354, 0.68929006],\n",
       "         [0.15876675, 0.63864189, 0.92292153, 0.49801731, 0.96519025],\n",
       "         [0.01005694, 0.31248723, 0.96299338, 0.5404511 , 0.67758184],\n",
       "         [0.42075385, 0.77998892, 0.06055113, 0.15527562, 0.21329744]],\n",
       "\n",
       "        [[0.13837167, 0.83015779, 0.67069939, 0.09867108, 0.24175901],\n",
       "         [0.36528224, 0.91316979, 0.04100574, 0.81877037, 0.15973004],\n",
       "         [0.10393083, 0.85688642, 0.41166831, 0.00216613, 0.48308748],\n",
       "         [0.53813919, 0.00540189, 0.06255989, 0.74642399, 0.24892966]]],\n",
       "\n",
       "\n",
       "       [[[0.26221229, 0.70117054, 0.42141692, 0.3758779 , 0.21011541],\n",
       "         [0.61799488, 0.65845529, 0.2734903 , 0.52846805, 0.04767485],\n",
       "         [0.60112424, 0.64781339, 0.63793992, 0.68394323, 0.1413206 ],\n",
       "         [0.13504108, 0.24184533, 0.18599909, 0.67051131, 0.73721978]],\n",
       "\n",
       "        [[0.4846742 , 0.00280095, 0.48186596, 0.08161273, 0.13673793],\n",
       "         [0.77630353, 0.89702002, 0.74497707, 0.01702068, 0.11704666],\n",
       "         [0.29721247, 0.00513102, 0.25494228, 0.47297614, 0.1357303 ],\n",
       "         [0.21839843, 0.38743288, 0.12592756, 0.90645607, 0.78787065]]]])"
      ]
     },
     "execution_count": 77,
     "metadata": {},
     "output_type": "execute_result"
    }
   ],
   "source": [
    "random_floats = np.random.rand(3,2,4,5)\n",
    "random_floats"
   ]
  },
  {
   "cell_type": "code",
   "execution_count": 79,
   "id": "458152a9-f33a-4158-b0e0-7f5cefce3b07",
   "metadata": {},
   "outputs": [
    {
     "data": {
      "text/plain": [
       "array([[ 1,  2],\n",
       "       [17,  2],\n",
       "       [ 9, 18]], dtype=int32)"
      ]
     },
     "execution_count": 79,
     "metadata": {},
     "output_type": "execute_result"
    }
   ],
   "source": [
    "random_integers = np.random.randint(0, 20, size= (3,2))\n",
    "random_integers"
   ]
  },
  {
   "cell_type": "code",
   "execution_count": 81,
   "id": "bacd0a9f-4263-44e3-98dc-7835bc9e03f9",
   "metadata": {},
   "outputs": [
    {
     "data": {
      "text/plain": [
       "array([[0.06041172, 0.93206964, 0.64799099, 0.2802344 ],\n",
       "       [0.14194822, 0.23170381, 0.40386403, 0.47235241],\n",
       "       [0.20103412, 0.4719473 , 0.61936093, 0.49373492]])"
      ]
     },
     "execution_count": 81,
     "metadata": {},
     "output_type": "execute_result"
    }
   ],
   "source": [
    "import numpy as np\n",
    "np.random.rand(3, 4)"
   ]
  },
  {
   "cell_type": "code",
   "execution_count": 83,
   "id": "c1f7b76b-3e25-48ff-84ec-207062be6402",
   "metadata": {},
   "outputs": [
    {
     "data": {
      "text/plain": [
       "array([[[[-1.07468813e+00,  6.31920960e-01,  2.14749303e+00,\n",
       "          -1.15846944e+00,  1.16683310e-01],\n",
       "         [ 4.65756750e-01,  6.73262778e-01,  2.06790432e-01,\n",
       "           2.13960142e-02, -6.79927952e-01],\n",
       "         [-9.11915162e-01, -1.04324132e-01,  1.18781110e+00,\n",
       "          -1.45348345e+00,  2.55449670e-01],\n",
       "         [-1.11891764e+00,  3.27958997e+00,  4.65966770e-01,\n",
       "          -8.46128609e-01, -7.82268010e-01]],\n",
       "\n",
       "        [[-1.28231996e-01,  8.74048147e-02, -3.84476532e-01,\n",
       "           2.86048837e-01, -1.51216136e-01],\n",
       "         [-4.68636687e-02, -2.84369629e-01,  2.92919777e+00,\n",
       "           1.21673196e+00,  1.37688863e-01],\n",
       "         [-4.98046962e-01,  4.80051369e-01, -3.65040546e-01,\n",
       "          -2.31738484e+00,  2.71191031e-01],\n",
       "         [-2.07570130e+00,  2.56575587e-01,  1.80015182e-02,\n",
       "          -1.02142514e-01, -3.74136632e-01]],\n",
       "\n",
       "        [[-3.08372277e-01,  6.61790221e-01,  2.84891156e-01,\n",
       "          -6.18386382e-02, -2.57405861e-03],\n",
       "         [ 1.01546150e+00, -7.75419986e-01,  1.08432359e+00,\n",
       "           2.54041232e+00, -7.93111518e-01],\n",
       "         [-2.90435404e-01, -1.09255154e+00,  3.75780686e-02,\n",
       "          -9.90973887e-01,  1.22459462e+00],\n",
       "         [ 1.26539147e+00, -7.87836107e-01, -1.03509874e+00,\n",
       "           1.20283877e-01, -2.41545530e-01]]],\n",
       "\n",
       "\n",
       "       [[[-5.93299755e-01, -8.66225261e-01, -1.65137755e+00,\n",
       "          -2.89316556e-01,  1.04275996e-01],\n",
       "         [-3.98285447e-01,  5.29303567e-01, -5.04562020e-02,\n",
       "           1.39010377e+00, -2.23436165e+00],\n",
       "         [-2.77073457e-01,  1.17774211e+00, -9.31435590e-01,\n",
       "          -3.08989248e-01, -3.45691342e-01],\n",
       "         [-9.10097055e-01, -2.59714262e-01,  6.81677547e-01,\n",
       "           4.75682669e-01,  3.05542727e-01]],\n",
       "\n",
       "        [[ 8.67153188e-01, -1.02678775e+00, -6.83656639e-01,\n",
       "          -1.00124128e+00, -1.97485576e+00],\n",
       "         [-8.22957290e-01, -1.64544238e+00, -1.30295174e+00,\n",
       "          -8.59077776e-02, -4.35962593e-01],\n",
       "         [ 5.56175098e-01, -1.73470125e+00,  7.57719016e-01,\n",
       "           1.25559344e+00, -1.94834292e+00],\n",
       "         [ 1.24973969e+00,  1.42535784e-01,  1.39676440e+00,\n",
       "          -2.50379578e+00,  1.81606004e+00]],\n",
       "\n",
       "        [[ 1.26455648e+00, -2.10519399e-01, -3.52784280e-01,\n",
       "           1.30683889e+00, -9.16364102e-01],\n",
       "         [ 1.28527380e+00,  4.99148277e-01, -1.59632756e+00,\n",
       "           1.85082965e+00,  3.06687149e-01],\n",
       "         [ 3.43777578e-01, -9.55701016e-01, -2.90252556e-01,\n",
       "           1.55596235e+00,  4.02749311e-01],\n",
       "         [ 1.68286900e+00, -2.42644614e-01, -4.44878785e-01,\n",
       "           7.58022839e-01,  7.83873863e-01]]]])"
      ]
     },
     "execution_count": 83,
     "metadata": {},
     "output_type": "execute_result"
    }
   ],
   "source": [
    "np.random.randn(2, 3, 4, 5)"
   ]
  },
  {
   "cell_type": "code",
   "execution_count": 85,
   "id": "ac7a90e1-17ed-453a-97c2-f78aa234f64c",
   "metadata": {},
   "outputs": [
    {
     "data": {
      "text/plain": [
       "array([[39, 19, 12, 17, 46,  6, 49, 44, 32, 27, 14, 38, 46, 18, 46, 22,\n",
       "        19, 10, 10,  8, 22, 32,  9, 13, 23, 18,  9, 26, 37, 27],\n",
       "       [33, 11, 32, 30, 46, 28, 38, 49, 14, 34, 26, 22, 16,  3, 34, 13,\n",
       "        10, 33, 14, 28, 18, 47, 19, 12, 18, 12,  5, 43, 23, 40],\n",
       "       [21, 23,  3, 47, 48, 36, 22, 18, 14, 10, 48, 23, 44, 19, 30, 33,\n",
       "        23, 26, 20, 42, 46, 40, 37, 17, 25,  4, 27, 17, 19, 17],\n",
       "       [40, 33, 23, 27, 11, 48, 13, 27, 23, 37,  3, 49, 13,  9, 46, 36,\n",
       "        36,  7, 13,  1, 40, 27, 31,  7, 41, 36, 28, 15, 42, 34],\n",
       "       [ 8, 41, 25, 34, 25, 13, 49, 33, 48,  8, 33, 28,  5, 31, 35, 38,\n",
       "        48, 46, 14, 37,  5, 43, 33, 19,  6,  2, 11, 15, 37, 31],\n",
       "       [29, 40,  8, 27,  7, 49, 29,  2, 38, 12, 42, 18, 46, 13, 38, 18,\n",
       "        47,  5, 48, 12,  6, 44, 14, 25, 37, 30, 39,  6, 45,  4],\n",
       "       [41, 22, 41, 36, 14, 30, 27, 37,  4,  3,  7, 42, 40,  3, 25, 11,\n",
       "        22, 49, 43,  3,  4, 47, 22, 28, 33, 15, 48,  7, 45, 19],\n",
       "       [44, 19, 26, 12, 13, 20, 32, 38, 27, 13,  4, 43, 13, 30, 15, 36,\n",
       "        43, 10, 31, 40, 28,  4,  2, 40, 20, 20, 41, 42, 22, 32],\n",
       "       [37,  2, 18, 42, 34, 27, 13, 31, 11, 48, 43, 20, 32, 42,  7, 28,\n",
       "        16,  9,  6, 21, 40, 45, 16, 32,  2, 23, 25,  5, 25, 19],\n",
       "       [31, 33, 34, 39, 45, 45, 35, 21, 21, 45, 27, 37, 29, 23, 33, 31,\n",
       "        12, 23,  4, 36, 39, 20, 40, 42, 46, 17, 13,  8, 43, 41],\n",
       "       [27,  7, 15, 35, 21,  2, 29,  1, 37, 48, 31,  8, 29, 14, 12, 29,\n",
       "        49, 19, 19, 17, 13, 40, 36, 11,  2, 34, 25, 11, 38, 41],\n",
       "       [47,  7, 32,  5,  5, 15, 34, 14, 48, 25, 35,  3, 30, 39, 17, 49,\n",
       "         1, 25, 35, 21, 25, 30, 40, 41,  8, 38, 31, 32, 28, 18],\n",
       "       [32,  9, 26, 48, 35, 47, 23, 39, 49, 26, 37, 40, 48, 49, 21, 20,\n",
       "        26, 15, 31, 27, 17, 34, 22, 45, 41,  7, 28, 35, 13, 30],\n",
       "       [47, 49, 38,  7, 24, 16, 23, 29, 14, 31, 39, 31, 49,  1, 21, 39,\n",
       "         5,  2, 45, 13, 11, 18,  6, 35, 32, 27, 28, 37,  5, 18],\n",
       "       [38, 13, 20,  8, 15, 31,  1, 40, 29, 31, 24, 43, 47, 10, 15,  3,\n",
       "         5,  4, 20, 47, 42, 11,  3, 44,  3, 15, 25, 45, 21,  1],\n",
       "       [21, 18, 14, 36, 37, 10, 27, 30, 43, 48, 44, 19, 24, 30, 23, 15,\n",
       "        17,  8, 44, 24,  1, 11, 39, 45, 13, 34,  3,  4, 20, 40],\n",
       "       [49, 41, 33, 33, 11, 39,  9, 13, 47, 17, 19, 29, 10, 12,  6, 35,\n",
       "        14, 18, 11, 17,  8, 14, 17, 47, 22, 30, 45, 40, 38, 13],\n",
       "       [15, 31, 22, 27, 29, 46,  8, 40, 16, 15, 37,  5, 33,  3, 33, 34,\n",
       "        18, 26,  7, 32, 42, 35, 26,  2, 39, 36, 37, 22,  7, 23],\n",
       "       [45,  2,  2, 19, 46, 38, 35,  1, 45, 44,  4, 10, 41,  3, 34, 22,\n",
       "         7, 48, 33, 43, 16, 28,  2, 33, 18,  1, 48, 17, 39, 29],\n",
       "       [25, 27, 37, 33, 48, 30, 38, 43, 30, 24, 29,  7, 36, 39, 44, 34,\n",
       "        28, 22, 20,  3, 19, 47, 25, 24, 15, 38, 13, 25, 38, 32],\n",
       "       [22, 10, 36, 44, 15, 25, 28, 49,  2, 11, 24, 18,  1, 44, 32, 39,\n",
       "        28, 13,  7, 42, 41, 27, 12, 10, 37, 49, 47, 32, 27, 16],\n",
       "       [43, 40,  4, 31, 30,  5, 33, 17,  9, 30, 29, 26, 46, 25, 49, 32,\n",
       "        30, 32, 25, 12, 33,  3, 40, 29, 42, 28, 16,  5, 14, 34],\n",
       "       [39,  6, 35, 25, 22,  3, 27, 43, 12, 12,  2,  2, 35, 31, 25, 29,\n",
       "        30, 43, 22,  3, 39, 20, 21,  3, 38, 41, 25, 24,  6,  1],\n",
       "       [ 3,  3, 20, 27, 26,  5, 30, 25, 14, 23,  9,  4, 49,  6, 18,  9,\n",
       "        23, 24,  6, 11,  4, 43,  7,  1, 27, 16,  6, 19, 30, 22],\n",
       "       [19, 46, 36, 40, 47, 43, 46, 22,  8, 38,  8, 10, 48, 13, 36, 13,\n",
       "        27, 48, 26, 49, 17, 35, 27, 11, 17, 28, 32, 33, 21, 33]],\n",
       "      dtype=int32)"
      ]
     },
     "execution_count": 85,
     "metadata": {},
     "output_type": "execute_result"
    }
   ],
   "source": [
    "np.random.randint(1, 50, size=(25, 30))"
   ]
  },
  {
   "cell_type": "code",
   "execution_count": 87,
   "id": "a1f04c62-236f-491d-95da-f4772154c93c",
   "metadata": {},
   "outputs": [
    {
     "data": {
      "text/plain": [
       "array([    0,     1,     2, ..., 99997, 99998, 99999], shape=(100000,))"
      ]
     },
     "execution_count": 87,
     "metadata": {},
     "output_type": "execute_result"
    }
   ],
   "source": [
    "a = np.arange(100000)\n",
    "a"
   ]
  },
  {
   "cell_type": "markdown",
   "id": "c5bd90c5-7acf-41cf-92ac-cb623e98f0ad",
   "metadata": {},
   "source": [
    "# Normalize Rows of a Matrix"
   ]
  },
  {
   "cell_type": "code",
   "execution_count": 90,
   "id": "ea1ffdeb-7c55-42c3-9387-7bed09e5e1d6",
   "metadata": {},
   "outputs": [
    {
     "name": "stdout",
     "output_type": "stream",
     "text": [
      "[[0.09062631 0.51786666 0.5653292  0.6220528  0.13059174]\n",
      " [0.55424617 0.36912835 0.51413655 0.14098152 0.52186518]\n",
      " [0.65254028 0.06607912 0.66022618 0.08015943 0.35707226]\n",
      " [0.16136494 0.27826729 0.37969448 0.86555024 0.05642304]\n",
      " [0.17168937 0.96789602 0.18162512 0.02043645 0.01716745]]\n"
     ]
    }
   ],
   "source": [
    "def normalize_rows(x):\n",
    "    return x / np.linalg.norm(x, axis=1, keepdims=True)\n",
    "\n",
    "matrix = np.random.rand(5, 5)\n",
    "normalized_matrix = normalize_rows(matrix)\n",
    "print(normalized_matrix)\n"
   ]
  },
  {
   "cell_type": "code",
   "execution_count": 92,
   "id": "453033e8-8f29-4668-a4bd-e230262dbae6",
   "metadata": {},
   "outputs": [
    {
     "name": "stdout",
     "output_type": "stream",
     "text": [
      "[[4.23216839e-01 5.11374692e-01 2.79055275e-01 2.31267613e-01\n",
      "  8.08684466e-02 4.36999164e-02 4.34760340e-01 2.17419253e-01\n",
      "  4.15358048e-01 1.03766542e-01]\n",
      " [4.50598078e-01 3.33867797e-01 5.42176205e-02 1.77239654e-01\n",
      "  3.32929738e-01 7.07262179e-02 2.58175701e-01 2.54954313e-01\n",
      "  4.57656793e-01 4.40669580e-01]\n",
      " [2.25182613e-01 1.23527402e-01 5.17725276e-01 3.67469078e-01\n",
      "  1.20199069e-01 4.43774560e-01 1.24888555e-01 3.03016278e-01\n",
      "  4.48135372e-01 1.06469635e-01]\n",
      " [4.16691493e-01 2.17596317e-01 3.06141355e-01 2.82104765e-01\n",
      "  3.40446055e-01 2.95836203e-01 4.02076364e-01 2.45891569e-01\n",
      "  2.04010113e-01 3.72214517e-01]\n",
      " [2.92263416e-02 4.88532031e-01 1.91542228e-01 4.48043458e-01\n",
      "  1.31307846e-01 4.86791390e-01 4.86694259e-01 1.72561274e-01\n",
      "  2.03955812e-03 4.68022232e-02]\n",
      " [1.18639789e-04 2.49468276e-01 1.80362700e-01 3.81972115e-01\n",
      "  5.10328102e-01 1.31430182e-01 5.12588965e-01 2.37285436e-01\n",
      "  2.43767864e-01 3.21168032e-01]\n",
      " [4.41673745e-01 3.70022726e-01 2.57107822e-01 4.64820799e-01\n",
      "  1.34616368e-01 3.51189151e-01 1.37497134e-01 3.49332694e-01\n",
      "  2.94655479e-01 1.28952111e-01]\n",
      " [4.26163999e-01 3.73134472e-01 1.60364770e-01 4.19216135e-01\n",
      "  2.36688112e-01 1.40021824e-01 3.97364017e-01 3.76543000e-01\n",
      "  6.58413936e-02 3.13130372e-01]\n",
      " [3.26150802e-01 4.48813811e-03 3.39621132e-01 1.25581875e-01\n",
      "  4.27687668e-01 1.24488785e-01 4.71428135e-01 1.52764885e-01\n",
      "  4.76936282e-01 3.01708765e-01]\n",
      " [3.02755817e-01 1.91169378e-01 2.90907549e-01 4.40736449e-01\n",
      "  3.66397128e-01 2.03958997e-02 4.72831013e-01 7.94383556e-02\n",
      "  4.57609044e-01 1.37727487e-01]]\n"
     ]
    }
   ],
   "source": [
    "def normalize_rows(x):\n",
    "    return x / np.linalg.norm(x, axis=1, keepdims=True)\n",
    "\n",
    "matrix = np.random.rand(10, 10)\n",
    "normalized_matrix = normalize_rows(matrix)\n",
    "print(normalized_matrix)\n"
   ]
  },
  {
   "cell_type": "markdown",
   "id": "22eeff4d-2457-4219-85fd-7a5e83ce9492",
   "metadata": {},
   "source": [
    "# Custom Universal Function"
   ]
  },
  {
   "cell_type": "code",
   "execution_count": 94,
   "id": "3828a9ea-12fa-49b6-ae7a-b7b60da112b6",
   "metadata": {},
   "outputs": [
    {
     "name": "stdout",
     "output_type": "stream",
     "text": [
      "[ 144  529 1156]\n"
     ]
    }
   ],
   "source": [
    "def custom_func(x):\n",
    "    return x**2 + 2*x + 1\n",
    "vectorized_func = np.vectorize(custom_func)\n",
    "arr = np.array([11, 22, 33])\n",
    "print(vectorized_func(arr))"
   ]
  },
  {
   "cell_type": "markdown",
   "id": "177c64fa-65dc-4bac-bc8d-994f4aa14933",
   "metadata": {},
   "source": [
    "# Memory Efficiency: Views vs. Copies"
   ]
  },
  {
   "cell_type": "code",
   "execution_count": 96,
   "id": "ea88f1f0-724a-4bd5-a840-2289e2b3eaf6",
   "metadata": {},
   "outputs": [
    {
     "name": "stdout",
     "output_type": "stream",
     "text": [
      "[1000    1    2    3    4    5    6    7    8    9   10   11   12   13\n",
      "   14   15   16   17   18   19   20   21   22   23   24   25   26   27\n",
      "   28   29   30   31   32   33   34   35   36   37   38   39   40   41\n",
      "   42   43   44   45   46   47   48   49   50   51   52   53   54   55\n",
      "   56   57   58   59   60   61   62   63   64   65   66   67   68   69\n",
      "   70   71   72   73   74   75   76   77   78   79   80   81   82   83\n",
      "   84   85   86   87   88   89   90   91   92   93   94   95   96   97\n",
      "   98   99]\n"
     ]
    }
   ],
   "source": [
    "a = np.arange(100)\n",
    "b = a[::10]  \n",
    "b[0] = 1000\n",
    "print(a)   "
   ]
  },
  {
   "cell_type": "markdown",
   "id": "6556f182-76ed-452e-9299-446d48121cd4",
   "metadata": {},
   "source": [
    "# Advanced Indexing\n"
   ]
  },
  {
   "cell_type": "code",
   "execution_count": 98,
   "id": "7df46299-fc4c-45fd-8717-24481fd757ac",
   "metadata": {},
   "outputs": [
    {
     "name": "stdout",
     "output_type": "stream",
     "text": [
      "[245 345 656]\n"
     ]
    }
   ],
   "source": [
    "arr = np.array([[134, 245], [345, 466], [545, 656]])\n",
    "indices = ([0, 1, 2], [1, 0, 1])\n",
    "print(arr[indices]) "
   ]
  },
  {
   "cell_type": "markdown",
   "id": "8e30090f-d58c-42b5-bb86-794fabfec4c5",
   "metadata": {},
   "source": [
    "# Vectorization\n"
   ]
  },
  {
   "cell_type": "code",
   "execution_count": 100,
   "id": "6adb8903-6853-4b7d-88f5-4ea06f51b02c",
   "metadata": {},
   "outputs": [
    {
     "data": {
      "text/plain": [
       "[1, 2, 3, 4]"
      ]
     },
     "execution_count": 100,
     "metadata": {},
     "output_type": "execute_result"
    }
   ],
   "source": [
    "a = [1, 2, 3, 4]\n",
    "b = [x**2 for x in a]\n",
    "a"
   ]
  },
  {
   "cell_type": "code",
   "execution_count": 102,
   "id": "00696d8a-26cf-4d93-b6fa-7bee19a889bf",
   "metadata": {},
   "outputs": [
    {
     "data": {
      "text/plain": [
       "[1, 4, 9, 16]"
      ]
     },
     "execution_count": 102,
     "metadata": {},
     "output_type": "execute_result"
    }
   ],
   "source": [
    "b"
   ]
  },
  {
   "cell_type": "code",
   "execution_count": 105,
   "id": "d51f54a7-e3b4-4214-a86b-3f773c9c5ba6",
   "metadata": {},
   "outputs": [
    {
     "data": {
      "text/plain": [
       "array([1, 2, 3, 4])"
      ]
     },
     "execution_count": 105,
     "metadata": {},
     "output_type": "execute_result"
    }
   ],
   "source": [
    "import numpy as np\n",
    "a = np.array([1, 2, 3, 4])\n",
    "b = a ** 2  \n",
    "a\n"
   ]
  },
  {
   "cell_type": "code",
   "execution_count": 107,
   "id": "3587d517-6703-48d2-9535-e6a4ee9c9b30",
   "metadata": {},
   "outputs": [
    {
     "data": {
      "text/plain": [
       "array([ 1,  4,  9, 16])"
      ]
     },
     "execution_count": 107,
     "metadata": {},
     "output_type": "execute_result"
    }
   ],
   "source": [
    "b"
   ]
  },
  {
   "cell_type": "code",
   "execution_count": 123,
   "id": "fc8ba1e0-e5cd-4d83-94de-fd1489aa6efe",
   "metadata": {},
   "outputs": [
    {
     "name": "stdout",
     "output_type": "stream",
     "text": [
      "13 ms ± 589 μs per loop (mean ± std. dev. of 7 runs, 100 loops each)\n",
      "134 μs ± 2.83 μs per loop (mean ± std. dev. of 7 runs, 10,000 loops each)\n"
     ]
    }
   ],
   "source": [
    "%timeit [x**2 for x in range(100000)]        \n",
    "%timeit np.arange(100000) ** 2   "
   ]
  },
  {
   "cell_type": "markdown",
   "id": "e00417b0-73e0-4d83-af8d-b4b334a76b2a",
   "metadata": {},
   "source": [
    "# C-order vs Fortran-order"
   ]
  },
  {
   "cell_type": "code",
   "execution_count": 125,
   "id": "bdcd1faf-c93e-4fb5-9a41-647786fbc5ce",
   "metadata": {},
   "outputs": [],
   "source": [
    "a = np.array([[1, 2], [3, 4]], order='C')\n"
   ]
  },
  {
   "cell_type": "code",
   "execution_count": 127,
   "id": "2ab95f8a-d34a-448e-bfc2-1d4e77c16b12",
   "metadata": {},
   "outputs": [
    {
     "data": {
      "text/plain": [
       "array([[1, 2],\n",
       "       [3, 4]])"
      ]
     },
     "execution_count": 127,
     "metadata": {},
     "output_type": "execute_result"
    }
   ],
   "source": [
    "a"
   ]
  },
  {
   "cell_type": "code",
   "execution_count": 128,
   "id": "13e53ed4-678d-492e-bc37-fcd05ece1935",
   "metadata": {},
   "outputs": [
    {
     "data": {
      "text/plain": [
       "array([ 1,  4,  9, 16])"
      ]
     },
     "execution_count": 128,
     "metadata": {},
     "output_type": "execute_result"
    }
   ],
   "source": [
    "b"
   ]
  },
  {
   "cell_type": "markdown",
   "id": "47e24148-ee3a-491b-b740-387e458462ed",
   "metadata": {},
   "source": [
    "# Memory Info\n"
   ]
  },
  {
   "cell_type": "code",
   "execution_count": 130,
   "id": "3460aa1d-f920-41b2-bd82-9208b233ca04",
   "metadata": {},
   "outputs": [
    {
     "data": {
      "text/plain": [
       "array([[13, 42],\n",
       "       [43, 45]])"
      ]
     },
     "execution_count": 130,
     "metadata": {},
     "output_type": "execute_result"
    }
   ],
   "source": [
    "a = np.array([[13, 42], [43, 45]])\n",
    "a\n"
   ]
  },
  {
   "cell_type": "code",
   "execution_count": 132,
   "id": "36fe9f19-7f66-43d4-89a1-5dbe313da274",
   "metadata": {},
   "outputs": [
    {
     "name": "stdout",
     "output_type": "stream",
     "text": [
      "32\n"
     ]
    }
   ],
   "source": [
    "print(a.nbytes)"
   ]
  },
  {
   "cell_type": "code",
   "execution_count": 133,
   "id": "b5ff095f-7cd0-4337-bfc4-2a03ace4ab8e",
   "metadata": {},
   "outputs": [
    {
     "name": "stdout",
     "output_type": "stream",
     "text": [
      "(16, 8)\n"
     ]
    }
   ],
   "source": [
    "print(a.strides)"
   ]
  }
 ],
 "metadata": {
  "kernelspec": {
   "display_name": "Python 3 (ipykernel)",
   "language": "python",
   "name": "python3"
  },
  "language_info": {
   "codemirror_mode": {
    "name": "ipython",
    "version": 3
   },
   "file_extension": ".py",
   "mimetype": "text/x-python",
   "name": "python",
   "nbconvert_exporter": "python",
   "pygments_lexer": "ipython3",
   "version": "3.13.5"
  }
 },
 "nbformat": 4,
 "nbformat_minor": 5
}
